{
 "cells": [
  {
   "cell_type": "markdown",
   "metadata": {},
   "source": [
    "# Building an optical system using ``GaussOpt``\n",
    "\n",
    "``GaussOpt`` can be used to analyze quasioptical systems using Gaussian beam analysis. In this notebook, we walk through the basics of setting up a Gaussian beam telescope."
   ]
  },
  {
   "cell_type": "code",
   "execution_count": 1,
   "metadata": {},
   "outputs": [],
   "source": [
    "%matplotlib inline\n",
    "from gaussopt import *\n",
    "import matplotlib.pyplot as plt "
   ]
  },
  {
   "cell_type": "markdown",
   "metadata": {},
   "source": [
    "## Gaussian beam telescopes\n",
    "\n",
    "Gaussian beam telescopes use two parabolic mirrors to couple energy between two horn antennas. If the mirrors have focal lengths $f$, then the mirrors should be separated by $2\\,f$ and the distance between each horn's beam waist and its respective mirror should be $f$ (as shown below).\n",
    "\n",
    "![](misc/GaussianBeamTelescope.jpg)\n",
    "\n",
    "We will now build a quick script to analyze a Gaussian beam telescope."
   ]
  },
  {
   "cell_type": "markdown",
   "metadata": {},
   "source": [
    "## Define frequency sweep\n",
    "\n",
    "For this notebook, we will sweep the frequency from 150 GHz to 300 GHz. This is done using using the ``gaussopt.Frequency`` class."
   ]
  },
  {
   "cell_type": "code",
   "execution_count": 2,
   "metadata": {},
   "outputs": [
    {
     "name": "stdout",
     "output_type": "stream",
     "text": [
      "Frequency sweep:\n",
      "\tf = 150.0 to 300.0 GHz, 301 pts\n",
      "\n"
     ]
    }
   ],
   "source": [
    "freq = Frequency(150, 300, units='GHz')"
   ]
  },
  {
   "cell_type": "markdown",
   "metadata": {},
   "source": [
    "## Define horn antennas\n",
    "\n",
    "Horn antennas are defined by their slant length, aperture radius and horn factor. See Chapter 7 of \"Quasioptical Systems\" by Paul Goldsmith for more information. \n",
    "\n",
    "We will use the ``gaussopt.Horn`` class to generate the transmitting horn (``horn_tx``) and then copy this horn to generate the receiving horn (``horn_rx``). We will use a corrugated circular feed horn, which has a horn factor of 0.64.\n",
    "\n",
    "![title](misc/Horn.jpg)"
   ]
  },
  {
   "cell_type": "code",
   "execution_count": 3,
   "metadata": {},
   "outputs": [
    {
     "name": "stdout",
     "output_type": "stream",
     "text": [
      "Horn: Trasmitting\n",
      "\tslen = 22.64 mm\n",
      "\tarad =  3.60 mm\n",
      "\thf   =  0.64\n",
      "\n",
      "Horn: Receiving\n",
      "\tslen = 22.64 mm\n",
      "\tarad =  3.60 mm\n",
      "\thf   =  0.64\n",
      "\n"
     ]
    }
   ],
   "source": [
    "slen = 22.64  # slant length (in mm)\n",
    "arad = 3.6    # aperture radius (in mm)\n",
    "hfac = 0.64   # horn factor (see chp. 7 of Quasioptical Systems)\n",
    "\n",
    "horn_tx = Horn(freq, slen, arad, hfac, units='mm', comment='Trasmitting')\n",
    "horn_rx = horn_tx.copy(comment='Receiving')"
   ]
  },
  {
   "cell_type": "markdown",
   "metadata": {},
   "source": [
    "## Define optical components\n",
    "\n",
    "Now it is time to build the rest of the circuit, i.e., everything between the transmitting and receiving horns. We can define empty space using the ``gaussopt.Freespace`` class and mirrors using the ``gaussopt.Mirror`` class."
   ]
  },
  {
   "cell_type": "code",
   "execution_count": 4,
   "metadata": {},
   "outputs": [
    {
     "name": "stdout",
     "output_type": "stream",
     "text": [
      "Freespace: \n",
      "\td = 160.0 mm\n",
      "\n",
      "Mirror: M1\n",
      "\tf = 16.0 cm\n",
      "\n",
      "Mirror: M2\n",
      "\tf = 16.0 cm\n",
      "\n"
     ]
    }
   ],
   "source": [
    "# 16 cm of freespace (air)\n",
    "d = Freespace(160)\n",
    "\n",
    "# Mirrors with a focal length of 16 cm\n",
    "m1 = Mirror(16, units='cm', radius=8, comment='M1')\n",
    "m2 = m1.copy(comment='M2')"
   ]
  },
  {
   "cell_type": "markdown",
   "metadata": {},
   "source": [
    "The distances between the horns and the mirrors have to be reduced because the actual beam waist is behind the horn aperture."
   ]
  },
  {
   "cell_type": "code",
   "execution_count": 5,
   "metadata": {},
   "outputs": [
    {
     "name": "stdout",
     "output_type": "stream",
     "text": [
      "Freespace: reduced\n",
      "\td = 154.5 mm\n",
      "\n"
     ]
    }
   ],
   "source": [
    "# Offset distance (i.e., distance from beam waist to horn aperture) at 230 GHz\n",
    "z_offset = horn_tx.z_offset(units='mm')[freq.idx(230, units='GHz')]\n",
    "\n",
    "# Ideal distance between horn aperture and mirror\n",
    "d_red = Freespace(160 - z_offset, comment='reduced')"
   ]
  },
  {
   "cell_type": "markdown",
   "metadata": {},
   "source": [
    "## Build Optical System\n",
    "\n",
    "We can now combine all of the individual optical components to build our optical system. This is normally done by creating a list of optical components (``component_list`` below), starting from the transmitting horn and then listing each component to the receiving horn (in order).\n",
    "\n",
    "The component list is then passed to the ``gaussopt.System`` class, along with the two horns, to calculate the system properties."
   ]
  },
  {
   "cell_type": "code",
   "execution_count": 6,
   "metadata": {},
   "outputs": [
    {
     "name": "stdout",
     "output_type": "stream",
     "text": [
      "System: \n",
      "[[-1.          0.01096053]\n",
      " [ 0.         -1.        ]]\n"
     ]
    }
   ],
   "source": [
    "component_list = (d_red, m1, d, d, m2, d_red)\n",
    "\n",
    "system = System(horn_tx, component_list, horn_rx)"
   ]
  },
  {
   "cell_type": "markdown",
   "metadata": {},
   "source": [
    "## Plot Coupling\n",
    "\n",
    "The coupling between the two horns can be plotted using the ``plot_coupling`` method. There should be perfect coupling at the center frequency."
   ]
  },
  {
   "cell_type": "code",
   "execution_count": 7,
   "metadata": {},
   "outputs": [
    {
     "name": "stdout",
     "output_type": "stream",
     "text": [
      "Best coupling: 100.0 % at 230.0 GHz\n"
     ]
    },
    {
     "data": {
      "image/png": "[encoded data removed]",
      "text/plain": [
       "<Figure size 432x288 with 1 Axes>"
      ]
     },
     "metadata": {
      "needs_background": "light"
     },
     "output_type": "display_data"
    }
   ],
   "source": [
    "system.plot_coupling()\n",
    "system.print_best_coupling()"
   ]
  },
  {
   "cell_type": "markdown",
   "metadata": {},
   "source": [
    "## Plot Beam Propagation\n",
    "\n",
    "The beam waist can be plotted through the entire chain using the ``plot_system`` command. This method will also plot the aperture of each component to ensure that there isn't too much edge taper anywhere in the system."
   ]
  },
  {
   "cell_type": "code",
   "execution_count": 8,
   "metadata": {},
   "outputs": [
    {
     "data": {
      "image/png": "[encoded data removed]",
      "text/plain": [
       "<Figure size 576x360 with 1 Axes>"
      ]
     },
     "metadata": {
      "needs_background": "light"
     },
     "output_type": "display_data"
    }
   ],
   "source": [
    "fig, ax = plt.subplots(figsize=(8,5))\n",
    "system.plot_system(ax=ax)"
   ]
  }
 ],
 "metadata": {
  "kernelspec": {
   "display_name": "Python 3",
   "language": "python",
   "name": "python3"
  },
  "language_info": {
   "codemirror_mode": {
    "name": "ipython",
    "version": 3
   },
   "file_extension": ".py",
   "mimetype": "text/x-python",
   "name": "python",
   "nbconvert_exporter": "python",
   "pygments_lexer": "ipython3",
   "version": "3.7.0"
  }
 },
 "nbformat": 4,
 "nbformat_minor": 1
}
